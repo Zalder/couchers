{
 "cells": [
  {
   "cell_type": "code",
   "execution_count": 1,
   "id": "485e25e3",
   "metadata": {},
   "outputs": [
    {
     "data": {
      "text/plain": [
       "True"
      ]
     },
     "execution_count": 1,
     "metadata": {},
     "output_type": "execute_result"
    }
   ],
   "source": [
    "from dotenv import load_dotenv\n",
    "load_dotenv(\"readwrite.env\")"
   ]
  },
  {
   "cell_type": "code",
   "execution_count": null,
   "id": "4b0bd838",
   "metadata": {},
   "outputs": [],
   "source": [
    "run helpers"
   ]
  },
  {
   "cell_type": "code",
   "execution_count": null,
   "id": "2e293be4",
   "metadata": {},
   "outputs": [],
   "source": [
    "event_id =\n",
    "target_community_id = "
   ]
  },
  {
   "cell_type": "code",
   "execution_count": null,
   "id": "fe7c87c7",
   "metadata": {},
   "outputs": [],
   "source": [
    "move_event(event_id, target_community_id)"
   ]
  }
 ],
 "metadata": {
  "kernelspec": {
   "display_name": "couchers",
   "language": "python",
   "name": "couchers"
  },
  "language_info": {
   "codemirror_mode": {
    "name": "ipython",
    "version": 3
   },
   "file_extension": ".py",
   "mimetype": "text/x-python",
   "name": "python",
   "nbconvert_exporter": "python",
   "pygments_lexer": "ipython3",
   "version": "3.9.7"
  }
 },
 "nbformat": 4,
 "nbformat_minor": 5
}
